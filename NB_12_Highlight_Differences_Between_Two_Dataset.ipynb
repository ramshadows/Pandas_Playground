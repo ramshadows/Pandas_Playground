{
 "cells": [
  {
   "cell_type": "markdown",
   "metadata": {},
   "source": [
    "# How to identify / highlight differences between two versions of the same Dataset over time."
   ]
  },
  {
   "cell_type": "markdown",
   "metadata": {},
   "source": [
    "### See below an example with the Sales Dataframe (two elements are changed from Day1 to Day2):"
   ]
  },
  {
   "cell_type": "code",
   "execution_count": 17,
   "metadata": {},
   "outputs": [],
   "source": [
    "import numpy as np\n",
    "import pandas as pd"
   ]
  },
  {
   "cell_type": "code",
   "execution_count": 5,
   "metadata": {},
   "outputs": [],
   "source": [
    "sales1 = pd.read_csv(\"Data1/Course_Material_Part2/Video_Lecture_NBs/sales.csv\", index_col=\"Unnamed: 0\")"
   ]
  },
  {
   "cell_type": "code",
   "execution_count": 6,
   "metadata": {},
   "outputs": [
    {
     "data": {
      "text/html": [
       "<div>\n",
       "<style scoped>\n",
       "    .dataframe tbody tr th:only-of-type {\n",
       "        vertical-align: middle;\n",
       "    }\n",
       "\n",
       "    .dataframe tbody tr th {\n",
       "        vertical-align: top;\n",
       "    }\n",
       "\n",
       "    .dataframe thead th {\n",
       "        text-align: right;\n",
       "    }\n",
       "</style>\n",
       "<table border=\"1\" class=\"dataframe\">\n",
       "  <thead>\n",
       "    <tr style=\"text-align: right;\">\n",
       "      <th></th>\n",
       "      <th>Mon</th>\n",
       "      <th>Tue</th>\n",
       "      <th>Wed</th>\n",
       "      <th>Thu</th>\n",
       "      <th>Fri</th>\n",
       "    </tr>\n",
       "  </thead>\n",
       "  <tbody>\n",
       "    <tr>\n",
       "      <th>Steven</th>\n",
       "      <td>34</td>\n",
       "      <td>27</td>\n",
       "      <td>15</td>\n",
       "      <td>NaN</td>\n",
       "      <td>33</td>\n",
       "    </tr>\n",
       "    <tr>\n",
       "      <th>Mike</th>\n",
       "      <td>45</td>\n",
       "      <td>9</td>\n",
       "      <td>74</td>\n",
       "      <td>87.0</td>\n",
       "      <td>12</td>\n",
       "    </tr>\n",
       "    <tr>\n",
       "      <th>Andi</th>\n",
       "      <td>17</td>\n",
       "      <td>33</td>\n",
       "      <td>54</td>\n",
       "      <td>8.0</td>\n",
       "      <td>29</td>\n",
       "    </tr>\n",
       "    <tr>\n",
       "      <th>Paul</th>\n",
       "      <td>87</td>\n",
       "      <td>67</td>\n",
       "      <td>27</td>\n",
       "      <td>45.0</td>\n",
       "      <td>7</td>\n",
       "    </tr>\n",
       "  </tbody>\n",
       "</table>\n",
       "</div>"
      ],
      "text/plain": [
       "        Mon  Tue  Wed   Thu  Fri\n",
       "Steven   34   27   15   NaN   33\n",
       "Mike     45    9   74  87.0   12\n",
       "Andi     17   33   54   8.0   29\n",
       "Paul     87   67   27  45.0    7"
      ]
     },
     "execution_count": 6,
     "metadata": {},
     "output_type": "execute_result"
    }
   ],
   "source": [
    "sales1"
   ]
  },
  {
   "cell_type": "code",
   "execution_count": 7,
   "metadata": {},
   "outputs": [
    {
     "name": "stdout",
     "output_type": "stream",
     "text": [
      "<class 'pandas.core.frame.DataFrame'>\n",
      "Index: 4 entries, Steven to Paul\n",
      "Data columns (total 5 columns):\n",
      " #   Column  Non-Null Count  Dtype  \n",
      "---  ------  --------------  -----  \n",
      " 0   Mon     4 non-null      int64  \n",
      " 1   Tue     4 non-null      int64  \n",
      " 2   Wed     4 non-null      int64  \n",
      " 3   Thu     3 non-null      float64\n",
      " 4   Fri     4 non-null      int64  \n",
      "dtypes: float64(1), int64(4)\n",
      "memory usage: 192.0+ bytes\n"
     ]
    }
   ],
   "source": [
    "sales1.info()"
   ]
  },
  {
   "cell_type": "markdown",
   "metadata": {},
   "source": [
    "### Let make a copy of sales1"
   ]
  },
  {
   "cell_type": "code",
   "execution_count": 8,
   "metadata": {},
   "outputs": [],
   "source": [
    "sales2 = sales1.copy()"
   ]
  },
  {
   "cell_type": "code",
   "execution_count": 9,
   "metadata": {},
   "outputs": [
    {
     "data": {
      "text/html": [
       "<div>\n",
       "<style scoped>\n",
       "    .dataframe tbody tr th:only-of-type {\n",
       "        vertical-align: middle;\n",
       "    }\n",
       "\n",
       "    .dataframe tbody tr th {\n",
       "        vertical-align: top;\n",
       "    }\n",
       "\n",
       "    .dataframe thead th {\n",
       "        text-align: right;\n",
       "    }\n",
       "</style>\n",
       "<table border=\"1\" class=\"dataframe\">\n",
       "  <thead>\n",
       "    <tr style=\"text-align: right;\">\n",
       "      <th></th>\n",
       "      <th>Mon</th>\n",
       "      <th>Tue</th>\n",
       "      <th>Wed</th>\n",
       "      <th>Thu</th>\n",
       "      <th>Fri</th>\n",
       "    </tr>\n",
       "  </thead>\n",
       "  <tbody>\n",
       "    <tr>\n",
       "      <th>Steven</th>\n",
       "      <td>34</td>\n",
       "      <td>27</td>\n",
       "      <td>15</td>\n",
       "      <td>NaN</td>\n",
       "      <td>33</td>\n",
       "    </tr>\n",
       "    <tr>\n",
       "      <th>Mike</th>\n",
       "      <td>45</td>\n",
       "      <td>9</td>\n",
       "      <td>74</td>\n",
       "      <td>87.0</td>\n",
       "      <td>12</td>\n",
       "    </tr>\n",
       "    <tr>\n",
       "      <th>Andi</th>\n",
       "      <td>17</td>\n",
       "      <td>33</td>\n",
       "      <td>54</td>\n",
       "      <td>8.0</td>\n",
       "      <td>29</td>\n",
       "    </tr>\n",
       "    <tr>\n",
       "      <th>Paul</th>\n",
       "      <td>87</td>\n",
       "      <td>67</td>\n",
       "      <td>27</td>\n",
       "      <td>45.0</td>\n",
       "      <td>7</td>\n",
       "    </tr>\n",
       "  </tbody>\n",
       "</table>\n",
       "</div>"
      ],
      "text/plain": [
       "        Mon  Tue  Wed   Thu  Fri\n",
       "Steven   34   27   15   NaN   33\n",
       "Mike     45    9   74  87.0   12\n",
       "Andi     17   33   54   8.0   29\n",
       "Paul     87   67   27  45.0    7"
      ]
     },
     "execution_count": 9,
     "metadata": {},
     "output_type": "execute_result"
    }
   ],
   "source": [
    "sales2"
   ]
  },
  {
   "cell_type": "markdown",
   "metadata": {},
   "source": [
    "### Change two elements in sales 2"
   ]
  },
  {
   "cell_type": "code",
   "execution_count": 10,
   "metadata": {},
   "outputs": [],
   "source": [
    "sales2.iloc[0, 1] = 100"
   ]
  },
  {
   "cell_type": "code",
   "execution_count": 11,
   "metadata": {},
   "outputs": [],
   "source": [
    "sales2.iloc[3,2] = 200"
   ]
  },
  {
   "cell_type": "code",
   "execution_count": 12,
   "metadata": {},
   "outputs": [
    {
     "data": {
      "text/html": [
       "<div>\n",
       "<style scoped>\n",
       "    .dataframe tbody tr th:only-of-type {\n",
       "        vertical-align: middle;\n",
       "    }\n",
       "\n",
       "    .dataframe tbody tr th {\n",
       "        vertical-align: top;\n",
       "    }\n",
       "\n",
       "    .dataframe thead th {\n",
       "        text-align: right;\n",
       "    }\n",
       "</style>\n",
       "<table border=\"1\" class=\"dataframe\">\n",
       "  <thead>\n",
       "    <tr style=\"text-align: right;\">\n",
       "      <th></th>\n",
       "      <th>Mon</th>\n",
       "      <th>Tue</th>\n",
       "      <th>Wed</th>\n",
       "      <th>Thu</th>\n",
       "      <th>Fri</th>\n",
       "    </tr>\n",
       "  </thead>\n",
       "  <tbody>\n",
       "    <tr>\n",
       "      <th>Steven</th>\n",
       "      <td>34</td>\n",
       "      <td>100</td>\n",
       "      <td>15</td>\n",
       "      <td>NaN</td>\n",
       "      <td>33</td>\n",
       "    </tr>\n",
       "    <tr>\n",
       "      <th>Mike</th>\n",
       "      <td>45</td>\n",
       "      <td>9</td>\n",
       "      <td>74</td>\n",
       "      <td>87.0</td>\n",
       "      <td>12</td>\n",
       "    </tr>\n",
       "    <tr>\n",
       "      <th>Andi</th>\n",
       "      <td>17</td>\n",
       "      <td>33</td>\n",
       "      <td>54</td>\n",
       "      <td>8.0</td>\n",
       "      <td>29</td>\n",
       "    </tr>\n",
       "    <tr>\n",
       "      <th>Paul</th>\n",
       "      <td>87</td>\n",
       "      <td>67</td>\n",
       "      <td>200</td>\n",
       "      <td>45.0</td>\n",
       "      <td>7</td>\n",
       "    </tr>\n",
       "  </tbody>\n",
       "</table>\n",
       "</div>"
      ],
      "text/plain": [
       "        Mon  Tue  Wed   Thu  Fri\n",
       "Steven   34  100   15   NaN   33\n",
       "Mike     45    9   74  87.0   12\n",
       "Andi     17   33   54   8.0   29\n",
       "Paul     87   67  200  45.0    7"
      ]
     },
     "execution_count": 12,
     "metadata": {},
     "output_type": "execute_result"
    }
   ],
   "source": [
    "sales2"
   ]
  },
  {
   "cell_type": "markdown",
   "metadata": {},
   "source": [
    "### Compare for equality using =="
   ]
  },
  {
   "cell_type": "code",
   "execution_count": 13,
   "metadata": {},
   "outputs": [
    {
     "data": {
      "text/html": [
       "<div>\n",
       "<style scoped>\n",
       "    .dataframe tbody tr th:only-of-type {\n",
       "        vertical-align: middle;\n",
       "    }\n",
       "\n",
       "    .dataframe tbody tr th {\n",
       "        vertical-align: top;\n",
       "    }\n",
       "\n",
       "    .dataframe thead th {\n",
       "        text-align: right;\n",
       "    }\n",
       "</style>\n",
       "<table border=\"1\" class=\"dataframe\">\n",
       "  <thead>\n",
       "    <tr style=\"text-align: right;\">\n",
       "      <th></th>\n",
       "      <th>Mon</th>\n",
       "      <th>Tue</th>\n",
       "      <th>Wed</th>\n",
       "      <th>Thu</th>\n",
       "      <th>Fri</th>\n",
       "    </tr>\n",
       "  </thead>\n",
       "  <tbody>\n",
       "    <tr>\n",
       "      <th>Steven</th>\n",
       "      <td>True</td>\n",
       "      <td>False</td>\n",
       "      <td>True</td>\n",
       "      <td>False</td>\n",
       "      <td>True</td>\n",
       "    </tr>\n",
       "    <tr>\n",
       "      <th>Mike</th>\n",
       "      <td>True</td>\n",
       "      <td>True</td>\n",
       "      <td>True</td>\n",
       "      <td>True</td>\n",
       "      <td>True</td>\n",
       "    </tr>\n",
       "    <tr>\n",
       "      <th>Andi</th>\n",
       "      <td>True</td>\n",
       "      <td>True</td>\n",
       "      <td>True</td>\n",
       "      <td>True</td>\n",
       "      <td>True</td>\n",
       "    </tr>\n",
       "    <tr>\n",
       "      <th>Paul</th>\n",
       "      <td>True</td>\n",
       "      <td>True</td>\n",
       "      <td>False</td>\n",
       "      <td>True</td>\n",
       "      <td>True</td>\n",
       "    </tr>\n",
       "  </tbody>\n",
       "</table>\n",
       "</div>"
      ],
      "text/plain": [
       "         Mon    Tue    Wed    Thu   Fri\n",
       "Steven  True  False   True  False  True\n",
       "Mike    True   True   True   True  True\n",
       "Andi    True   True   True   True  True\n",
       "Paul    True   True  False   True  True"
      ]
     },
     "execution_count": 13,
     "metadata": {},
     "output_type": "execute_result"
    }
   ],
   "source": [
    "sales2 == sales1 #This gives us False for changed values/ or where the difference occurs"
   ]
  },
  {
   "cell_type": "code",
   "execution_count": 15,
   "metadata": {},
   "outputs": [
    {
     "data": {
      "text/html": [
       "<div>\n",
       "<style scoped>\n",
       "    .dataframe tbody tr th:only-of-type {\n",
       "        vertical-align: middle;\n",
       "    }\n",
       "\n",
       "    .dataframe tbody tr th {\n",
       "        vertical-align: top;\n",
       "    }\n",
       "\n",
       "    .dataframe thead th {\n",
       "        text-align: right;\n",
       "    }\n",
       "</style>\n",
       "<table border=\"1\" class=\"dataframe\">\n",
       "  <thead>\n",
       "    <tr style=\"text-align: right;\">\n",
       "      <th></th>\n",
       "      <th>Mon</th>\n",
       "      <th>Tue</th>\n",
       "      <th>Wed</th>\n",
       "      <th>Thu</th>\n",
       "      <th>Fri</th>\n",
       "    </tr>\n",
       "  </thead>\n",
       "  <tbody>\n",
       "    <tr>\n",
       "      <th>Steven</th>\n",
       "      <td>True</td>\n",
       "      <td>False</td>\n",
       "      <td>True</td>\n",
       "      <td>False</td>\n",
       "      <td>True</td>\n",
       "    </tr>\n",
       "    <tr>\n",
       "      <th>Mike</th>\n",
       "      <td>True</td>\n",
       "      <td>True</td>\n",
       "      <td>True</td>\n",
       "      <td>True</td>\n",
       "      <td>True</td>\n",
       "    </tr>\n",
       "    <tr>\n",
       "      <th>Andi</th>\n",
       "      <td>True</td>\n",
       "      <td>True</td>\n",
       "      <td>True</td>\n",
       "      <td>True</td>\n",
       "      <td>True</td>\n",
       "    </tr>\n",
       "    <tr>\n",
       "      <th>Paul</th>\n",
       "      <td>True</td>\n",
       "      <td>True</td>\n",
       "      <td>False</td>\n",
       "      <td>True</td>\n",
       "      <td>True</td>\n",
       "    </tr>\n",
       "  </tbody>\n",
       "</table>\n",
       "</div>"
      ],
      "text/plain": [
       "         Mon    Tue    Wed    Thu   Fri\n",
       "Steven  True  False   True  False  True\n",
       "Mike    True   True   True   True  True\n",
       "Andi    True   True   True   True  True\n",
       "Paul    True   True  False   True  True"
      ]
     },
     "execution_count": 15,
     "metadata": {},
     "output_type": "execute_result"
    }
   ],
   "source": [
    "sales1 == sales2"
   ]
  },
  {
   "cell_type": "markdown",
   "metadata": {},
   "source": [
    "### Let further inspect with the where () - Gives NAN for similar value and the actual value where the diff occurs"
   ]
  },
  {
   "cell_type": "code",
   "execution_count": 14,
   "metadata": {},
   "outputs": [
    {
     "data": {
      "text/html": [
       "<div>\n",
       "<style scoped>\n",
       "    .dataframe tbody tr th:only-of-type {\n",
       "        vertical-align: middle;\n",
       "    }\n",
       "\n",
       "    .dataframe tbody tr th {\n",
       "        vertical-align: top;\n",
       "    }\n",
       "\n",
       "    .dataframe thead th {\n",
       "        text-align: right;\n",
       "    }\n",
       "</style>\n",
       "<table border=\"1\" class=\"dataframe\">\n",
       "  <thead>\n",
       "    <tr style=\"text-align: right;\">\n",
       "      <th></th>\n",
       "      <th>Mon</th>\n",
       "      <th>Tue</th>\n",
       "      <th>Wed</th>\n",
       "      <th>Thu</th>\n",
       "      <th>Fri</th>\n",
       "    </tr>\n",
       "  </thead>\n",
       "  <tbody>\n",
       "    <tr>\n",
       "      <th>Steven</th>\n",
       "      <td>NaN</td>\n",
       "      <td>27.0</td>\n",
       "      <td>NaN</td>\n",
       "      <td>NaN</td>\n",
       "      <td>NaN</td>\n",
       "    </tr>\n",
       "    <tr>\n",
       "      <th>Mike</th>\n",
       "      <td>NaN</td>\n",
       "      <td>NaN</td>\n",
       "      <td>NaN</td>\n",
       "      <td>NaN</td>\n",
       "      <td>NaN</td>\n",
       "    </tr>\n",
       "    <tr>\n",
       "      <th>Andi</th>\n",
       "      <td>NaN</td>\n",
       "      <td>NaN</td>\n",
       "      <td>NaN</td>\n",
       "      <td>NaN</td>\n",
       "      <td>NaN</td>\n",
       "    </tr>\n",
       "    <tr>\n",
       "      <th>Paul</th>\n",
       "      <td>NaN</td>\n",
       "      <td>NaN</td>\n",
       "      <td>27.0</td>\n",
       "      <td>NaN</td>\n",
       "      <td>NaN</td>\n",
       "    </tr>\n",
       "  </tbody>\n",
       "</table>\n",
       "</div>"
      ],
      "text/plain": [
       "        Mon   Tue   Wed  Thu  Fri\n",
       "Steven  NaN  27.0   NaN  NaN  NaN\n",
       "Mike    NaN   NaN   NaN  NaN  NaN\n",
       "Andi    NaN   NaN   NaN  NaN  NaN\n",
       "Paul    NaN   NaN  27.0  NaN  NaN"
      ]
     },
     "execution_count": 14,
     "metadata": {},
     "output_type": "execute_result"
    }
   ],
   "source": [
    "sales1.where(~(sales1 == sales2))#Returns where condition is true replace with NAN else keep the original value"
   ]
  },
  {
   "cell_type": "code",
   "execution_count": 16,
   "metadata": {},
   "outputs": [
    {
     "data": {
      "text/html": [
       "<div>\n",
       "<style scoped>\n",
       "    .dataframe tbody tr th:only-of-type {\n",
       "        vertical-align: middle;\n",
       "    }\n",
       "\n",
       "    .dataframe tbody tr th {\n",
       "        vertical-align: top;\n",
       "    }\n",
       "\n",
       "    .dataframe thead th {\n",
       "        text-align: right;\n",
       "    }\n",
       "</style>\n",
       "<table border=\"1\" class=\"dataframe\">\n",
       "  <thead>\n",
       "    <tr style=\"text-align: right;\">\n",
       "      <th></th>\n",
       "      <th>Mon</th>\n",
       "      <th>Tue</th>\n",
       "      <th>Wed</th>\n",
       "      <th>Thu</th>\n",
       "      <th>Fri</th>\n",
       "    </tr>\n",
       "  </thead>\n",
       "  <tbody>\n",
       "    <tr>\n",
       "      <th>Steven</th>\n",
       "      <td>NaN</td>\n",
       "      <td>100.0</td>\n",
       "      <td>NaN</td>\n",
       "      <td>NaN</td>\n",
       "      <td>NaN</td>\n",
       "    </tr>\n",
       "    <tr>\n",
       "      <th>Mike</th>\n",
       "      <td>NaN</td>\n",
       "      <td>NaN</td>\n",
       "      <td>NaN</td>\n",
       "      <td>NaN</td>\n",
       "      <td>NaN</td>\n",
       "    </tr>\n",
       "    <tr>\n",
       "      <th>Andi</th>\n",
       "      <td>NaN</td>\n",
       "      <td>NaN</td>\n",
       "      <td>NaN</td>\n",
       "      <td>NaN</td>\n",
       "      <td>NaN</td>\n",
       "    </tr>\n",
       "    <tr>\n",
       "      <th>Paul</th>\n",
       "      <td>NaN</td>\n",
       "      <td>NaN</td>\n",
       "      <td>200.0</td>\n",
       "      <td>NaN</td>\n",
       "      <td>NaN</td>\n",
       "    </tr>\n",
       "  </tbody>\n",
       "</table>\n",
       "</div>"
      ],
      "text/plain": [
       "        Mon    Tue    Wed  Thu  Fri\n",
       "Steven  NaN  100.0    NaN  NaN  NaN\n",
       "Mike    NaN    NaN    NaN  NaN  NaN\n",
       "Andi    NaN    NaN    NaN  NaN  NaN\n",
       "Paul    NaN    NaN  200.0  NaN  NaN"
      ]
     },
     "execution_count": 16,
     "metadata": {},
     "output_type": "execute_result"
    }
   ],
   "source": [
    "sales2.where(~(sales2 == sales1))#Returns where condition is true replace with NAN else keep the original value"
   ]
  },
  {
   "cell_type": "markdown",
   "metadata": {},
   "source": [
    "### For Only Highlighting the difference, We must concatenate the two datasets"
   ]
  },
  {
   "cell_type": "code",
   "execution_count": 18,
   "metadata": {},
   "outputs": [],
   "source": [
    "sales_comp = pd.concat([sales1, sales2], axis=1, keys=[\"Day1_Sales\", \"Day2_Sales\"])"
   ]
  },
  {
   "cell_type": "code",
   "execution_count": 19,
   "metadata": {},
   "outputs": [
    {
     "data": {
      "text/html": [
       "<div>\n",
       "<style scoped>\n",
       "    .dataframe tbody tr th:only-of-type {\n",
       "        vertical-align: middle;\n",
       "    }\n",
       "\n",
       "    .dataframe tbody tr th {\n",
       "        vertical-align: top;\n",
       "    }\n",
       "\n",
       "    .dataframe thead tr th {\n",
       "        text-align: left;\n",
       "    }\n",
       "</style>\n",
       "<table border=\"1\" class=\"dataframe\">\n",
       "  <thead>\n",
       "    <tr>\n",
       "      <th></th>\n",
       "      <th colspan=\"5\" halign=\"left\">Day1_Sales</th>\n",
       "      <th colspan=\"5\" halign=\"left\">Day2_Sales</th>\n",
       "    </tr>\n",
       "    <tr>\n",
       "      <th></th>\n",
       "      <th>Mon</th>\n",
       "      <th>Tue</th>\n",
       "      <th>Wed</th>\n",
       "      <th>Thu</th>\n",
       "      <th>Fri</th>\n",
       "      <th>Mon</th>\n",
       "      <th>Tue</th>\n",
       "      <th>Wed</th>\n",
       "      <th>Thu</th>\n",
       "      <th>Fri</th>\n",
       "    </tr>\n",
       "  </thead>\n",
       "  <tbody>\n",
       "    <tr>\n",
       "      <th>Steven</th>\n",
       "      <td>34</td>\n",
       "      <td>27</td>\n",
       "      <td>15</td>\n",
       "      <td>NaN</td>\n",
       "      <td>33</td>\n",
       "      <td>34</td>\n",
       "      <td>100</td>\n",
       "      <td>15</td>\n",
       "      <td>NaN</td>\n",
       "      <td>33</td>\n",
       "    </tr>\n",
       "    <tr>\n",
       "      <th>Mike</th>\n",
       "      <td>45</td>\n",
       "      <td>9</td>\n",
       "      <td>74</td>\n",
       "      <td>87.0</td>\n",
       "      <td>12</td>\n",
       "      <td>45</td>\n",
       "      <td>9</td>\n",
       "      <td>74</td>\n",
       "      <td>87.0</td>\n",
       "      <td>12</td>\n",
       "    </tr>\n",
       "    <tr>\n",
       "      <th>Andi</th>\n",
       "      <td>17</td>\n",
       "      <td>33</td>\n",
       "      <td>54</td>\n",
       "      <td>8.0</td>\n",
       "      <td>29</td>\n",
       "      <td>17</td>\n",
       "      <td>33</td>\n",
       "      <td>54</td>\n",
       "      <td>8.0</td>\n",
       "      <td>29</td>\n",
       "    </tr>\n",
       "    <tr>\n",
       "      <th>Paul</th>\n",
       "      <td>87</td>\n",
       "      <td>67</td>\n",
       "      <td>27</td>\n",
       "      <td>45.0</td>\n",
       "      <td>7</td>\n",
       "      <td>87</td>\n",
       "      <td>67</td>\n",
       "      <td>200</td>\n",
       "      <td>45.0</td>\n",
       "      <td>7</td>\n",
       "    </tr>\n",
       "  </tbody>\n",
       "</table>\n",
       "</div>"
      ],
      "text/plain": [
       "       Day1_Sales                   Day2_Sales                    \n",
       "              Mon Tue Wed   Thu Fri        Mon  Tue  Wed   Thu Fri\n",
       "Steven         34  27  15   NaN  33         34  100   15   NaN  33\n",
       "Mike           45   9  74  87.0  12         45    9   74  87.0  12\n",
       "Andi           17  33  54   8.0  29         17   33   54   8.0  29\n",
       "Paul           87  67  27  45.0   7         87   67  200  45.0   7"
      ]
     },
     "execution_count": 19,
     "metadata": {},
     "output_type": "execute_result"
    }
   ],
   "source": [
    "sales_comp"
   ]
  },
  {
   "cell_type": "markdown",
   "metadata": {},
   "source": [
    "## Now let highlight the difference"
   ]
  },
  {
   "cell_type": "code",
   "execution_count": 22,
   "metadata": {},
   "outputs": [],
   "source": [
    "def highlight_diff(data, color=\"yellow\"):\n",
    "    attr = 'background-color: {}'.format(color)\n",
    "    other = data.xs(\"Day1_Sales\", axis=\"columns\", level=-2)\n",
    "    \n",
    "    return pd.DataFrame(np.where(data.ne(other, level=1), attr, ''), index=data.index, columns=data.columns)"
   ]
  },
  {
   "cell_type": "code",
   "execution_count": 25,
   "metadata": {},
   "outputs": [
    {
     "data": {
      "text/html": [
       "<style  type=\"text/css\" >\n",
       "    #T_2bf87cd6_c25c_11ea_b822_11a9fcba70aarow0_col3 {\n",
       "            background-color:  yellow;\n",
       "        }    #T_2bf87cd6_c25c_11ea_b822_11a9fcba70aarow0_col6 {\n",
       "            background-color:  yellow;\n",
       "        }    #T_2bf87cd6_c25c_11ea_b822_11a9fcba70aarow0_col8 {\n",
       "            background-color:  yellow;\n",
       "        }    #T_2bf87cd6_c25c_11ea_b822_11a9fcba70aarow3_col7 {\n",
       "            background-color:  yellow;\n",
       "        }</style><table id=\"T_2bf87cd6_c25c_11ea_b822_11a9fcba70aa\" ><thead>    <tr>        <th class=\"blank level0\" ></th>        <th class=\"col_heading level0 col0\" colspan=5>Day1_Sales</th>        <th class=\"col_heading level0 col5\" colspan=5>Day2_Sales</th>    </tr>    <tr>        <th class=\"blank level1\" ></th>        <th class=\"col_heading level1 col0\" >Mon</th>        <th class=\"col_heading level1 col1\" >Tue</th>        <th class=\"col_heading level1 col2\" >Wed</th>        <th class=\"col_heading level1 col3\" >Thu</th>        <th class=\"col_heading level1 col4\" >Fri</th>        <th class=\"col_heading level1 col5\" >Mon</th>        <th class=\"col_heading level1 col6\" >Tue</th>        <th class=\"col_heading level1 col7\" >Wed</th>        <th class=\"col_heading level1 col8\" >Thu</th>        <th class=\"col_heading level1 col9\" >Fri</th>    </tr></thead><tbody>\n",
       "                <tr>\n",
       "                        <th id=\"T_2bf87cd6_c25c_11ea_b822_11a9fcba70aalevel0_row0\" class=\"row_heading level0 row0\" >Steven</th>\n",
       "                        <td id=\"T_2bf87cd6_c25c_11ea_b822_11a9fcba70aarow0_col0\" class=\"data row0 col0\" >34</td>\n",
       "                        <td id=\"T_2bf87cd6_c25c_11ea_b822_11a9fcba70aarow0_col1\" class=\"data row0 col1\" >27</td>\n",
       "                        <td id=\"T_2bf87cd6_c25c_11ea_b822_11a9fcba70aarow0_col2\" class=\"data row0 col2\" >15</td>\n",
       "                        <td id=\"T_2bf87cd6_c25c_11ea_b822_11a9fcba70aarow0_col3\" class=\"data row0 col3\" >nan</td>\n",
       "                        <td id=\"T_2bf87cd6_c25c_11ea_b822_11a9fcba70aarow0_col4\" class=\"data row0 col4\" >33</td>\n",
       "                        <td id=\"T_2bf87cd6_c25c_11ea_b822_11a9fcba70aarow0_col5\" class=\"data row0 col5\" >34</td>\n",
       "                        <td id=\"T_2bf87cd6_c25c_11ea_b822_11a9fcba70aarow0_col6\" class=\"data row0 col6\" >100</td>\n",
       "                        <td id=\"T_2bf87cd6_c25c_11ea_b822_11a9fcba70aarow0_col7\" class=\"data row0 col7\" >15</td>\n",
       "                        <td id=\"T_2bf87cd6_c25c_11ea_b822_11a9fcba70aarow0_col8\" class=\"data row0 col8\" >nan</td>\n",
       "                        <td id=\"T_2bf87cd6_c25c_11ea_b822_11a9fcba70aarow0_col9\" class=\"data row0 col9\" >33</td>\n",
       "            </tr>\n",
       "            <tr>\n",
       "                        <th id=\"T_2bf87cd6_c25c_11ea_b822_11a9fcba70aalevel0_row1\" class=\"row_heading level0 row1\" >Mike</th>\n",
       "                        <td id=\"T_2bf87cd6_c25c_11ea_b822_11a9fcba70aarow1_col0\" class=\"data row1 col0\" >45</td>\n",
       "                        <td id=\"T_2bf87cd6_c25c_11ea_b822_11a9fcba70aarow1_col1\" class=\"data row1 col1\" >9</td>\n",
       "                        <td id=\"T_2bf87cd6_c25c_11ea_b822_11a9fcba70aarow1_col2\" class=\"data row1 col2\" >74</td>\n",
       "                        <td id=\"T_2bf87cd6_c25c_11ea_b822_11a9fcba70aarow1_col3\" class=\"data row1 col3\" >87.000000</td>\n",
       "                        <td id=\"T_2bf87cd6_c25c_11ea_b822_11a9fcba70aarow1_col4\" class=\"data row1 col4\" >12</td>\n",
       "                        <td id=\"T_2bf87cd6_c25c_11ea_b822_11a9fcba70aarow1_col5\" class=\"data row1 col5\" >45</td>\n",
       "                        <td id=\"T_2bf87cd6_c25c_11ea_b822_11a9fcba70aarow1_col6\" class=\"data row1 col6\" >9</td>\n",
       "                        <td id=\"T_2bf87cd6_c25c_11ea_b822_11a9fcba70aarow1_col7\" class=\"data row1 col7\" >74</td>\n",
       "                        <td id=\"T_2bf87cd6_c25c_11ea_b822_11a9fcba70aarow1_col8\" class=\"data row1 col8\" >87.000000</td>\n",
       "                        <td id=\"T_2bf87cd6_c25c_11ea_b822_11a9fcba70aarow1_col9\" class=\"data row1 col9\" >12</td>\n",
       "            </tr>\n",
       "            <tr>\n",
       "                        <th id=\"T_2bf87cd6_c25c_11ea_b822_11a9fcba70aalevel0_row2\" class=\"row_heading level0 row2\" >Andi</th>\n",
       "                        <td id=\"T_2bf87cd6_c25c_11ea_b822_11a9fcba70aarow2_col0\" class=\"data row2 col0\" >17</td>\n",
       "                        <td id=\"T_2bf87cd6_c25c_11ea_b822_11a9fcba70aarow2_col1\" class=\"data row2 col1\" >33</td>\n",
       "                        <td id=\"T_2bf87cd6_c25c_11ea_b822_11a9fcba70aarow2_col2\" class=\"data row2 col2\" >54</td>\n",
       "                        <td id=\"T_2bf87cd6_c25c_11ea_b822_11a9fcba70aarow2_col3\" class=\"data row2 col3\" >8.000000</td>\n",
       "                        <td id=\"T_2bf87cd6_c25c_11ea_b822_11a9fcba70aarow2_col4\" class=\"data row2 col4\" >29</td>\n",
       "                        <td id=\"T_2bf87cd6_c25c_11ea_b822_11a9fcba70aarow2_col5\" class=\"data row2 col5\" >17</td>\n",
       "                        <td id=\"T_2bf87cd6_c25c_11ea_b822_11a9fcba70aarow2_col6\" class=\"data row2 col6\" >33</td>\n",
       "                        <td id=\"T_2bf87cd6_c25c_11ea_b822_11a9fcba70aarow2_col7\" class=\"data row2 col7\" >54</td>\n",
       "                        <td id=\"T_2bf87cd6_c25c_11ea_b822_11a9fcba70aarow2_col8\" class=\"data row2 col8\" >8.000000</td>\n",
       "                        <td id=\"T_2bf87cd6_c25c_11ea_b822_11a9fcba70aarow2_col9\" class=\"data row2 col9\" >29</td>\n",
       "            </tr>\n",
       "            <tr>\n",
       "                        <th id=\"T_2bf87cd6_c25c_11ea_b822_11a9fcba70aalevel0_row3\" class=\"row_heading level0 row3\" >Paul</th>\n",
       "                        <td id=\"T_2bf87cd6_c25c_11ea_b822_11a9fcba70aarow3_col0\" class=\"data row3 col0\" >87</td>\n",
       "                        <td id=\"T_2bf87cd6_c25c_11ea_b822_11a9fcba70aarow3_col1\" class=\"data row3 col1\" >67</td>\n",
       "                        <td id=\"T_2bf87cd6_c25c_11ea_b822_11a9fcba70aarow3_col2\" class=\"data row3 col2\" >27</td>\n",
       "                        <td id=\"T_2bf87cd6_c25c_11ea_b822_11a9fcba70aarow3_col3\" class=\"data row3 col3\" >45.000000</td>\n",
       "                        <td id=\"T_2bf87cd6_c25c_11ea_b822_11a9fcba70aarow3_col4\" class=\"data row3 col4\" >7</td>\n",
       "                        <td id=\"T_2bf87cd6_c25c_11ea_b822_11a9fcba70aarow3_col5\" class=\"data row3 col5\" >87</td>\n",
       "                        <td id=\"T_2bf87cd6_c25c_11ea_b822_11a9fcba70aarow3_col6\" class=\"data row3 col6\" >67</td>\n",
       "                        <td id=\"T_2bf87cd6_c25c_11ea_b822_11a9fcba70aarow3_col7\" class=\"data row3 col7\" >200</td>\n",
       "                        <td id=\"T_2bf87cd6_c25c_11ea_b822_11a9fcba70aarow3_col8\" class=\"data row3 col8\" >45.000000</td>\n",
       "                        <td id=\"T_2bf87cd6_c25c_11ea_b822_11a9fcba70aarow3_col9\" class=\"data row3 col9\" >7</td>\n",
       "            </tr>\n",
       "    </tbody></table>"
      ],
      "text/plain": [
       "<pandas.io.formats.style.Styler at 0x7fc2fbffeb90>"
      ]
     },
     "execution_count": 25,
     "metadata": {},
     "output_type": "execute_result"
    }
   ],
   "source": [
    "#Highlight the diff\n",
    "sales_comp.style.apply(highlight_diff, axis=None)"
   ]
  },
  {
   "cell_type": "markdown",
   "metadata": {},
   "source": [
    "## Now let print out the difference"
   ]
  },
  {
   "cell_type": "code",
   "execution_count": 28,
   "metadata": {},
   "outputs": [],
   "source": [
    "def diff_pd(df1, df2):\n",
    "    \"\"\" Identify difference between to pandas dataframes and print out the diff \"\"\"\n",
    "    assert (df1.columns == df2.columns).all(), \\\n",
    "           \"DataFrame Columns are Different\"\n",
    "    \n",
    "    if any(df1.dtypes != df2.dtypes):\n",
    "        \"Data types are different, trying to convert\"\n",
    "        df2 = df2.astype(df1.dtypes)\n",
    "    if df1.equals(df2):\n",
    "        return None\n",
    "    else:\n",
    "        #Need to account for np.nan != np.nan returning True\n",
    "        diff_mask = (df1 != df2) & ~(df1.isnull() & df2.isnull())\n",
    "        ne_stacked = diff_mask.stack()\n",
    "        changed = ne_stacked[ne_stacked]\n",
    "        changed.index.names = [\"id\", \"col\"]\n",
    "        difference_locations = np.where(diff_mask)\n",
    "        changed_from = df1.values[difference_locations]\n",
    "        changed_to = df2.values[difference_locations]\n",
    "        \n",
    "        return pd.DataFrame({\"From\": changed_from, \"To\" : changed_to}, index=changed.index)"
   ]
  },
  {
   "cell_type": "code",
   "execution_count": 29,
   "metadata": {},
   "outputs": [
    {
     "data": {
      "text/html": [
       "<div>\n",
       "<style scoped>\n",
       "    .dataframe tbody tr th:only-of-type {\n",
       "        vertical-align: middle;\n",
       "    }\n",
       "\n",
       "    .dataframe tbody tr th {\n",
       "        vertical-align: top;\n",
       "    }\n",
       "\n",
       "    .dataframe thead th {\n",
       "        text-align: right;\n",
       "    }\n",
       "</style>\n",
       "<table border=\"1\" class=\"dataframe\">\n",
       "  <thead>\n",
       "    <tr style=\"text-align: right;\">\n",
       "      <th></th>\n",
       "      <th></th>\n",
       "      <th>From</th>\n",
       "      <th>To</th>\n",
       "    </tr>\n",
       "    <tr>\n",
       "      <th>id</th>\n",
       "      <th>col</th>\n",
       "      <th></th>\n",
       "      <th></th>\n",
       "    </tr>\n",
       "  </thead>\n",
       "  <tbody>\n",
       "    <tr>\n",
       "      <th>Steven</th>\n",
       "      <th>Tue</th>\n",
       "      <td>27.0</td>\n",
       "      <td>100.0</td>\n",
       "    </tr>\n",
       "    <tr>\n",
       "      <th>Paul</th>\n",
       "      <th>Wed</th>\n",
       "      <td>27.0</td>\n",
       "      <td>200.0</td>\n",
       "    </tr>\n",
       "  </tbody>\n",
       "</table>\n",
       "</div>"
      ],
      "text/plain": [
       "            From     To\n",
       "id     col             \n",
       "Steven Tue  27.0  100.0\n",
       "Paul   Wed  27.0  200.0"
      ]
     },
     "execution_count": 29,
     "metadata": {},
     "output_type": "execute_result"
    }
   ],
   "source": [
    "#Printing the difference columns and rows occurence\n",
    "diff_pd(sales1, sales2)"
   ]
  },
  {
   "cell_type": "code",
   "execution_count": null,
   "metadata": {},
   "outputs": [],
   "source": []
  }
 ],
 "metadata": {
  "kernelspec": {
   "display_name": "Python 3 (ipykernel)",
   "language": "python",
   "name": "python3"
  },
  "language_info": {
   "codemirror_mode": {
    "name": "ipython",
    "version": 3
   },
   "file_extension": ".py",
   "mimetype": "text/x-python",
   "name": "python",
   "nbconvert_exporter": "python",
   "pygments_lexer": "ipython3",
   "version": "3.9.7"
  }
 },
 "nbformat": 4,
 "nbformat_minor": 4
}
